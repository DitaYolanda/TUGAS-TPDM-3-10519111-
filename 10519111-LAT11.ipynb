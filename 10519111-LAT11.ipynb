{
 "cells": [
  {
   "cell_type": "code",
   "execution_count": 1,
   "id": "47f03afc",
   "metadata": {},
   "outputs": [],
   "source": [
    "import nltk"
   ]
  },
  {
   "cell_type": "code",
   "execution_count": 2,
   "id": "1005962b",
   "metadata": {},
   "outputs": [
    {
     "name": "stderr",
     "output_type": "stream",
     "text": [
      "[nltk_data] Downloading package punkt to\n",
      "[nltk_data]     C:\\Users\\ASUS\\AppData\\Roaming\\nltk_data...\n",
      "[nltk_data]   Package punkt is already up-to-date!\n"
     ]
    },
    {
     "data": {
      "text/plain": [
       "True"
      ]
     },
     "execution_count": 2,
     "metadata": {},
     "output_type": "execute_result"
    }
   ],
   "source": [
    "nltk.download(\"punkt\")"
   ]
  },
  {
   "cell_type": "code",
   "execution_count": 3,
   "id": "a45ae345",
   "metadata": {},
   "outputs": [],
   "source": [
    "text = \"\"\"Hello Mr Smith how are you dong today ? The weather is great, and city is awesome. The sky is pinkish-blue. You shouldn't eat cardboard\"\"\""
   ]
  },
  {
   "cell_type": "code",
   "execution_count": 4,
   "id": "47a2ad28",
   "metadata": {},
   "outputs": [
    {
     "name": "stdout",
     "output_type": "stream",
     "text": [
      "['Hello', 'Mr', 'Smith', 'how', 'are', 'you', 'dong', 'today', '?', 'The', 'weather', 'is', 'great', ',', 'and', 'city', 'is', 'awesome', '.', 'The', 'sky', 'is', 'pinkish-blue', '.', 'You', 'should', \"n't\", 'eat', 'cardboard']\n"
     ]
    }
   ],
   "source": [
    "from nltk.tokenize import word_tokenize\n",
    "tokenized_word = word_tokenize(text)\n",
    "print (tokenized_word)"
   ]
  },
  {
   "cell_type": "code",
   "execution_count": 5,
   "id": "d73a1053",
   "metadata": {},
   "outputs": [
    {
     "data": {
      "text/plain": [
       "[('Hello', 'Mr'),\n",
       " ('Mr', 'Smith'),\n",
       " ('Smith', 'how'),\n",
       " ('how', 'are'),\n",
       " ('are', 'you'),\n",
       " ('you', 'dong'),\n",
       " ('dong', 'today'),\n",
       " ('today', '?'),\n",
       " ('?', 'The'),\n",
       " ('The', 'weather'),\n",
       " ('weather', 'is'),\n",
       " ('is', 'great'),\n",
       " ('great', ','),\n",
       " (',', 'and'),\n",
       " ('and', 'city'),\n",
       " ('city', 'is'),\n",
       " ('is', 'awesome'),\n",
       " ('awesome', '.'),\n",
       " ('.', 'The'),\n",
       " ('The', 'sky'),\n",
       " ('sky', 'is'),\n",
       " ('is', 'pinkish-blue'),\n",
       " ('pinkish-blue', '.'),\n",
       " ('.', 'You'),\n",
       " ('You', 'should'),\n",
       " ('should', \"n't\"),\n",
       " (\"n't\", 'eat'),\n",
       " ('eat', 'cardboard')]"
      ]
     },
     "execution_count": 5,
     "metadata": {},
     "output_type": "execute_result"
    }
   ],
   "source": [
    "list(nltk.bigrams(tokenized_word))"
   ]
  },
  {
   "cell_type": "code",
   "execution_count": 6,
   "id": "8549120a",
   "metadata": {},
   "outputs": [
    {
     "data": {
      "text/plain": [
       "[('Hello', 'Mr', 'Smith'),\n",
       " ('Mr', 'Smith', 'how'),\n",
       " ('Smith', 'how', 'are'),\n",
       " ('how', 'are', 'you'),\n",
       " ('are', 'you', 'dong'),\n",
       " ('you', 'dong', 'today'),\n",
       " ('dong', 'today', '?'),\n",
       " ('today', '?', 'The'),\n",
       " ('?', 'The', 'weather'),\n",
       " ('The', 'weather', 'is'),\n",
       " ('weather', 'is', 'great'),\n",
       " ('is', 'great', ','),\n",
       " ('great', ',', 'and'),\n",
       " (',', 'and', 'city'),\n",
       " ('and', 'city', 'is'),\n",
       " ('city', 'is', 'awesome'),\n",
       " ('is', 'awesome', '.'),\n",
       " ('awesome', '.', 'The'),\n",
       " ('.', 'The', 'sky'),\n",
       " ('The', 'sky', 'is'),\n",
       " ('sky', 'is', 'pinkish-blue'),\n",
       " ('is', 'pinkish-blue', '.'),\n",
       " ('pinkish-blue', '.', 'You'),\n",
       " ('.', 'You', 'should'),\n",
       " ('You', 'should', \"n't\"),\n",
       " ('should', \"n't\", 'eat'),\n",
       " (\"n't\", 'eat', 'cardboard')]"
      ]
     },
     "execution_count": 6,
     "metadata": {},
     "output_type": "execute_result"
    }
   ],
   "source": [
    "list(nltk.trigrams(tokenized_word))"
   ]
  },
  {
   "cell_type": "code",
   "execution_count": 7,
   "id": "c889e967",
   "metadata": {},
   "outputs": [
    {
     "data": {
      "text/plain": [
       "[('Hello', 'Mr', 'Smith', 'how'),\n",
       " ('Mr', 'Smith', 'how', 'are'),\n",
       " ('Smith', 'how', 'are', 'you'),\n",
       " ('how', 'are', 'you', 'dong'),\n",
       " ('are', 'you', 'dong', 'today'),\n",
       " ('you', 'dong', 'today', '?'),\n",
       " ('dong', 'today', '?', 'The'),\n",
       " ('today', '?', 'The', 'weather'),\n",
       " ('?', 'The', 'weather', 'is'),\n",
       " ('The', 'weather', 'is', 'great'),\n",
       " ('weather', 'is', 'great', ','),\n",
       " ('is', 'great', ',', 'and'),\n",
       " ('great', ',', 'and', 'city'),\n",
       " (',', 'and', 'city', 'is'),\n",
       " ('and', 'city', 'is', 'awesome'),\n",
       " ('city', 'is', 'awesome', '.'),\n",
       " ('is', 'awesome', '.', 'The'),\n",
       " ('awesome', '.', 'The', 'sky'),\n",
       " ('.', 'The', 'sky', 'is'),\n",
       " ('The', 'sky', 'is', 'pinkish-blue'),\n",
       " ('sky', 'is', 'pinkish-blue', '.'),\n",
       " ('is', 'pinkish-blue', '.', 'You'),\n",
       " ('pinkish-blue', '.', 'You', 'should'),\n",
       " ('.', 'You', 'should', \"n't\"),\n",
       " ('You', 'should', \"n't\", 'eat'),\n",
       " ('should', \"n't\", 'eat', 'cardboard')]"
      ]
     },
     "execution_count": 7,
     "metadata": {},
     "output_type": "execute_result"
    }
   ],
   "source": [
    "list(nltk.ngrams(tokenized_word, 4))"
   ]
  },
  {
   "cell_type": "code",
   "execution_count": 8,
   "id": "632ddfc4",
   "metadata": {},
   "outputs": [],
   "source": [
    "from nltk.util import bigrams, trigrams, ngrams"
   ]
  },
  {
   "cell_type": "code",
   "execution_count": 9,
   "id": "f784c1ab",
   "metadata": {},
   "outputs": [
    {
     "name": "stdout",
     "output_type": "stream",
     "text": [
      "<FreqDist with 25 samples and 29 outcomes>\n"
     ]
    }
   ],
   "source": [
    "from nltk.probability import FreqDist\n",
    "fdist = FreqDist(tokenized_word)\n",
    "print (fdist)"
   ]
  },
  {
   "cell_type": "code",
   "execution_count": 10,
   "id": "3ccc19c7",
   "metadata": {},
   "outputs": [
    {
     "data": {
      "text/plain": [
       "FreqDist({'is': 3, 'The': 2, '.': 2, 'Hello': 1, 'Mr': 1, 'Smith': 1, 'how': 1, 'are': 1, 'you': 1, 'dong': 1, ...})"
      ]
     },
     "execution_count": 10,
     "metadata": {},
     "output_type": "execute_result"
    }
   ],
   "source": [
    "fdist"
   ]
  },
  {
   "cell_type": "code",
   "execution_count": 11,
   "id": "0b12b351",
   "metadata": {},
   "outputs": [
    {
     "data": {
      "text/plain": [
       "[('is', 3), ('The', 2)]"
      ]
     },
     "execution_count": 11,
     "metadata": {},
     "output_type": "execute_result"
    }
   ],
   "source": [
    "fdist.most_common(2)"
   ]
  },
  {
   "cell_type": "code",
   "execution_count": 12,
   "id": "bbf6fcfe",
   "metadata": {},
   "outputs": [
    {
     "data": {
      "image/png": "[encoded data removed]",
      "text/plain": [
       "<Figure size 640x480 with 1 Axes>"
      ]
     },
     "metadata": {},
     "output_type": "display_data"
    }
   ],
   "source": [
    "import matplotlib.pyplot as plt\n",
    "fdist.plot(30,cumulative=False)\n",
    "plt.show()"
   ]
  },
  {
   "cell_type": "code",
   "execution_count": 13,
   "id": "94782628",
   "metadata": {},
   "outputs": [
    {
     "name": "stdout",
     "output_type": "stream",
     "text": [
      "{'yourself', 'not', 'd', 'itself', 'him', 'm', 'needn', 'own', 'because', 'mightn', 'myself', 'over', 'and', 'of', 'herself', 'our', 'aren', 'here', 'an', \"mightn't\", 'off', 'who', 'am', 'o', 'too', 'ain', \"couldn't\", 'this', 'from', \"that'll\", 'the', \"hadn't\", 'yourselves', 'you', 'as', 'further', 'should', 'to', 'where', 'with', 'which', 'again', 're', 'ours', 'up', 'is', 'won', 't', \"she's\", \"you'd\", 'themselves', 'than', 'very', 'i', 'about', \"isn't\", 'for', 'most', 'by', 've', \"aren't\", 'or', 'now', 'she', 'under', 'between', \"don't\", 'all', 'more', 'against', \"mustn't\", 'been', 'out', 'had', 'nor', \"you'll\", 'were', 'but', 'on', 'has', 'was', 'once', \"needn't\", 'only', 'her', 'hadn', 'wouldn', 'shan', 'a', 'through', 'wasn', 'does', 'until', 'they', \"hasn't\", \"won't\", 'we', 'hers', 'will', 'its', 'into', 'down', 'weren', 'me', 'yours', 'couldn', 'didn', 'such', 'ourselves', 'if', 'shouldn', \"shouldn't\", 'so', 's', 'isn', 'did', 'do', 'mustn', 'your', 'after', \"wouldn't\", 'below', \"you've\", 'in', 'theirs', 'few', 'any', 'some', 'no', \"weren't\", 'those', 'have', 'same', 'having', 'what', \"wasn't\", 'being', 'doesn', 'there', 'y', 'when', 'that', 'other', 'it', 'their', 'll', 'hasn', 'ma', 'are', 'haven', 'his', \"doesn't\", 'above', 'before', 'my', 'don', \"you're\", 'he', 'doing', 'whom', 'while', 'how', \"should've\", 'at', 'can', 'himself', 'why', 'during', \"haven't\", 'each', 'just', 'these', \"shan't\", 'be', 'them', 'both', \"didn't\", \"it's\", 'then'}\n"
     ]
    }
   ],
   "source": [
    "from nltk.corpus import stopwords\n",
    "stop_words=set(stopwords.words(\"english\"))\n",
    "print(stop_words)"
   ]
  },
  {
   "cell_type": "code",
   "execution_count": 14,
   "id": "e9c92d42",
   "metadata": {},
   "outputs": [],
   "source": [
    "filtered_sent = []\n",
    "for w in tokenized_word:\n",
    "    if w not in stop_words:\n",
    "        filtered_sent.append(w)"
   ]
  },
  {
   "cell_type": "code",
   "execution_count": 15,
   "id": "665dbab7",
   "metadata": {},
   "outputs": [
    {
     "data": {
      "text/plain": [
       "['Hello',\n",
       " 'Mr',\n",
       " 'Smith',\n",
       " 'dong',\n",
       " 'today',\n",
       " '?',\n",
       " 'The',\n",
       " 'weather',\n",
       " 'great',\n",
       " ',',\n",
       " 'city',\n",
       " 'awesome',\n",
       " '.',\n",
       " 'The',\n",
       " 'sky',\n",
       " 'pinkish-blue',\n",
       " '.',\n",
       " 'You',\n",
       " \"n't\",\n",
       " 'eat',\n",
       " 'cardboard']"
      ]
     },
     "execution_count": 15,
     "metadata": {},
     "output_type": "execute_result"
    }
   ],
   "source": [
    "filtered_sent"
   ]
  },
  {
   "cell_type": "code",
   "execution_count": 16,
   "id": "ae38fc0c",
   "metadata": {},
   "outputs": [
    {
     "data": {
      "text/plain": [
       "['Hello',\n",
       " 'Mr',\n",
       " 'Smith',\n",
       " 'how',\n",
       " 'are',\n",
       " 'you',\n",
       " 'dong',\n",
       " 'today',\n",
       " '?',\n",
       " 'The',\n",
       " 'weather',\n",
       " 'is',\n",
       " 'great',\n",
       " ',',\n",
       " 'and',\n",
       " 'city',\n",
       " 'is',\n",
       " 'awesome',\n",
       " '.',\n",
       " 'The',\n",
       " 'sky',\n",
       " 'is',\n",
       " 'pinkish-blue',\n",
       " '.',\n",
       " 'You',\n",
       " 'should',\n",
       " \"n't\",\n",
       " 'eat',\n",
       " 'cardboard']"
      ]
     },
     "execution_count": 16,
     "metadata": {},
     "output_type": "execute_result"
    }
   ],
   "source": [
    "tokenized_word"
   ]
  },
  {
   "cell_type": "code",
   "execution_count": 17,
   "id": "8f3301a8",
   "metadata": {
    "scrolled": true
   },
   "outputs": [
    {
     "name": "stdout",
     "output_type": "stream",
     "text": [
      "['Hello', 'Mr', 'Smith', 'how', 'are', 'you', 'dong', 'today', '?', 'The', 'weather', 'is', 'great', ',', 'and', 'city', 'is', 'awesome', '.', 'The', 'sky', 'is', 'pinkish-blue', '.', 'You', 'should', \"n't\", 'eat', 'cardboard']\n"
     ]
    }
   ],
   "source": [
    "from nltk.tokenize import word_tokenize\n",
    "tokenized_text = word_tokenize(text)\n",
    "print (tokenized_text)"
   ]
  },
  {
   "cell_type": "code",
   "execution_count": 20,
   "id": "75925627",
   "metadata": {},
   "outputs": [],
   "source": [
    "filtered_sent2 = []\n",
    "for w in tokenized_text:\n",
    "    if w not in stop_words:\n",
    "        filtered_sent2.append(w)"
   ]
  },
  {
   "cell_type": "code",
   "execution_count": 21,
   "id": "291e1f02",
   "metadata": {},
   "outputs": [
    {
     "data": {
      "text/plain": [
       "['Hello',\n",
       " 'Mr',\n",
       " 'Smith',\n",
       " 'dong',\n",
       " 'today',\n",
       " '?',\n",
       " 'The',\n",
       " 'weather',\n",
       " 'great',\n",
       " ',',\n",
       " 'city',\n",
       " 'awesome',\n",
       " '.',\n",
       " 'The',\n",
       " 'sky',\n",
       " 'pinkish-blue',\n",
       " '.',\n",
       " 'You',\n",
       " \"n't\",\n",
       " 'eat',\n",
       " 'cardboard']"
      ]
     },
     "execution_count": 21,
     "metadata": {},
     "output_type": "execute_result"
    }
   ],
   "source": [
    "filtered_sent2"
   ]
  },
  {
   "cell_type": "code",
   "execution_count": 23,
   "id": "38a9e5bb",
   "metadata": {},
   "outputs": [
    {
     "name": "stderr",
     "output_type": "stream",
     "text": [
      "[nltk_data] Downloading package averaged_perceptron_tagger to\n",
      "[nltk_data]     C:\\Users\\ASUS\\AppData\\Roaming\\nltk_data...\n",
      "[nltk_data]   Unzipping taggers\\averaged_perceptron_tagger.zip.\n"
     ]
    },
    {
     "data": {
      "text/plain": [
       "True"
      ]
     },
     "execution_count": 23,
     "metadata": {},
     "output_type": "execute_result"
    }
   ],
   "source": [
    "nltk.download('averaged_perceptron_tagger')"
   ]
  },
  {
   "cell_type": "code",
   "execution_count": 25,
   "id": "86d18e90",
   "metadata": {},
   "outputs": [
    {
     "data": {
      "text/plain": [
       "[('Hello', 'NNP'),\n",
       " ('Mr', 'NNP'),\n",
       " ('Smith', 'NNP'),\n",
       " ('how', 'WRB'),\n",
       " ('are', 'VBP'),\n",
       " ('you', 'PRP'),\n",
       " ('dong', 'JJ'),\n",
       " ('today', 'NN'),\n",
       " ('?', '.'),\n",
       " ('The', 'DT'),\n",
       " ('weather', 'NN'),\n",
       " ('is', 'VBZ'),\n",
       " ('great', 'JJ'),\n",
       " (',', ','),\n",
       " ('and', 'CC'),\n",
       " ('city', 'NN'),\n",
       " ('is', 'VBZ'),\n",
       " ('awesome', 'JJ'),\n",
       " ('.', '.'),\n",
       " ('The', 'DT'),\n",
       " ('sky', 'NN'),\n",
       " ('is', 'VBZ'),\n",
       " ('pinkish-blue', 'JJ'),\n",
       " ('.', '.'),\n",
       " ('You', 'PRP'),\n",
       " ('should', 'MD'),\n",
       " (\"n't\", 'RB'),\n",
       " ('eat', 'VB'),\n",
       " ('cardboard', 'NN')]"
      ]
     },
     "execution_count": 25,
     "metadata": {},
     "output_type": "execute_result"
    }
   ],
   "source": [
    "nltk.pos_tag(tokenized_word)"
   ]
  },
  {
   "cell_type": "code",
   "execution_count": 26,
   "id": "dacaf93f",
   "metadata": {},
   "outputs": [
    {
     "data": {
      "text/plain": [
       "['Hello',\n",
       " 'Mr',\n",
       " 'Smith',\n",
       " 'how',\n",
       " 'are',\n",
       " 'you',\n",
       " 'dong',\n",
       " 'today',\n",
       " '?',\n",
       " 'The',\n",
       " 'weather',\n",
       " 'is',\n",
       " 'great',\n",
       " ',',\n",
       " 'and',\n",
       " 'city',\n",
       " 'is',\n",
       " 'awesome',\n",
       " '.',\n",
       " 'The',\n",
       " 'sky',\n",
       " 'is',\n",
       " 'pinkish-blue',\n",
       " '.',\n",
       " 'You',\n",
       " 'should',\n",
       " \"n't\",\n",
       " 'eat',\n",
       " 'cardboard']"
      ]
     },
     "execution_count": 26,
     "metadata": {},
     "output_type": "execute_result"
    }
   ],
   "source": [
    "tokenized_text"
   ]
  },
  {
   "cell_type": "code",
   "execution_count": 28,
   "id": "a2335044",
   "metadata": {},
   "outputs": [],
   "source": [
    "filtered_sent3 = []\n",
    "for w in tokenized_text:\n",
    "    if w not in stop_words:\n",
    "        filtered_sent3.append(w)"
   ]
  },
  {
   "cell_type": "code",
   "execution_count": 29,
   "id": "87849808",
   "metadata": {},
   "outputs": [
    {
     "data": {
      "text/plain": [
       "['Hello',\n",
       " 'Mr',\n",
       " 'Smith',\n",
       " 'dong',\n",
       " 'today',\n",
       " '?',\n",
       " 'The',\n",
       " 'weather',\n",
       " 'great',\n",
       " ',',\n",
       " 'city',\n",
       " 'awesome',\n",
       " '.',\n",
       " 'The',\n",
       " 'sky',\n",
       " 'pinkish-blue',\n",
       " '.',\n",
       " 'You',\n",
       " \"n't\",\n",
       " 'eat',\n",
       " 'cardboard']"
      ]
     },
     "execution_count": 29,
     "metadata": {},
     "output_type": "execute_result"
    }
   ],
   "source": [
    "filtered_sent3"
   ]
  },
  {
   "cell_type": "code",
   "execution_count": 30,
   "id": "d0213c88",
   "metadata": {},
   "outputs": [
    {
     "name": "stderr",
     "output_type": "stream",
     "text": [
      "[nltk_data] Downloading package wordnet to\n",
      "[nltk_data]     C:\\Users\\ASUS\\AppData\\Roaming\\nltk_data...\n"
     ]
    },
    {
     "data": {
      "text/plain": [
       "True"
      ]
     },
     "execution_count": 30,
     "metadata": {},
     "output_type": "execute_result"
    }
   ],
   "source": [
    "nltk.download('wordnet')"
   ]
  },
  {
   "cell_type": "code",
   "execution_count": 44,
   "id": "383f0471",
   "metadata": {},
   "outputs": [
    {
     "name": "stderr",
     "output_type": "stream",
     "text": [
      "[nltk_data] Downloading package omw-1.4 to\n",
      "[nltk_data]     C:\\Users\\ASUS\\AppData\\Roaming\\nltk_data...\n"
     ]
    },
    {
     "name": "stdout",
     "output_type": "stream",
     "text": [
      "Lemmatized Word: v\n",
      "Stemmed Word: fli\n"
     ]
    }
   ],
   "source": [
    "\n",
    "nltk.download('omw-1.4')\n",
    "from nltk.stem.wordnet import WordNetLemmatizer\n",
    "lem = WordNetLemmatizer\n",
    "from nltk.stem.porter import PorterStemmer\n",
    "stem = PorterStemmer()\n",
    "word = \"flying\"\n",
    "print(\"Lemmatized Word:\",lem.lemmatize(word,\"v\"))\n",
    "print(\"Stemmed Word:\",stem.stem(word))\n"
   ]
  },
  {
   "cell_type": "code",
   "execution_count": 33,
   "id": "74e0efbf",
   "metadata": {},
   "outputs": [
    {
     "name": "stdout",
     "output_type": "stream",
     "text": [
      "writes : write\n",
      "writing : write\n",
      "written : written\n",
      "wrote : wrote\n"
     ]
    }
   ],
   "source": [
    "from nltk.stem.porter import PorterStemmer\n",
    "pst=PorterStemmer()\n",
    "words_to_stem=[\"writes\",\"writing\",\"written\",\"wrote\"]\n",
    "for words in words_to_stem:\n",
    "    print(words+\" : \"+pst.stem(words))"
   ]
  },
  {
   "cell_type": "code",
   "execution_count": 1,
   "id": "6b6db43e",
   "metadata": {},
   "outputs": [],
   "source": [
    "import re\n",
    "email = re.compile('\\w+@w+\\.[a-z]{3}')\n",
    "text =\"To email Guido, try\""
   ]
  },
  {
   "cell_type": "code",
   "execution_count": null,
   "id": "5eb55ac7",
   "metadata": {},
   "outputs": [],
   "source": []
  }
 ],
 "metadata": {
  "kernelspec": {
   "display_name": "Python 3 (ipykernel)",
   "language": "python",
   "name": "python3"
  },
  "language_info": {
   "codemirror_mode": {
    "name": "ipython",
    "version": 3
   },
   "file_extension": ".py",
   "mimetype": "text/x-python",
   "name": "python",
   "nbconvert_exporter": "python",
   "pygments_lexer": "ipython3",
   "version": "3.9.13"
  }
 },
 "nbformat": 4,
 "nbformat_minor": 5
}
