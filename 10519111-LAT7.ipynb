{
 "cells": [
  {
   "cell_type": "code",
   "execution_count": 1,
   "id": "24ddc53e",
   "metadata": {},
   "outputs": [],
   "source": [
    "import nltk"
   ]
  },
  {
   "cell_type": "code",
   "execution_count": 2,
   "id": "5989ddfe",
   "metadata": {},
   "outputs": [
    {
     "name": "stderr",
     "output_type": "stream",
     "text": [
      "[nltk_data] Downloading package punkt to\n",
      "[nltk_data]     C:\\Users\\ASUS\\AppData\\Roaming\\nltk_data...\n",
      "[nltk_data]   Package punkt is already up-to-date!\n"
     ]
    },
    {
     "data": {
      "text/plain": [
       "True"
      ]
     },
     "execution_count": 2,
     "metadata": {},
     "output_type": "execute_result"
    }
   ],
   "source": [
    "nltk.download(\"punkt\")"
   ]
  },
  {
   "cell_type": "code",
   "execution_count": 3,
   "id": "4b10c3fc",
   "metadata": {},
   "outputs": [],
   "source": [
    "text = \"Halo Mahasiswa tpdm\""
   ]
  },
  {
   "cell_type": "code",
   "execution_count": 4,
   "id": "ee559a4a",
   "metadata": {},
   "outputs": [
    {
     "name": "stdout",
     "output_type": "stream",
     "text": [
      "['Halo', 'Mahasiswa', 'tpdm']\n"
     ]
    }
   ],
   "source": [
    "from nltk.tokenize import word_tokenize\n",
    "tokenized_word = word_tokenize(text)\n",
    "print (tokenized_word)"
   ]
  },
  {
   "cell_type": "code",
   "execution_count": 5,
   "id": "77e9801a",
   "metadata": {},
   "outputs": [
    {
     "data": {
      "text/plain": [
       "[('Halo', 'Mahasiswa'), ('Mahasiswa', 'tpdm')]"
      ]
     },
     "execution_count": 5,
     "metadata": {},
     "output_type": "execute_result"
    }
   ],
   "source": [
    "list(nltk.bigrams(tokenized_word))"
   ]
  },
  {
   "cell_type": "code",
   "execution_count": 6,
   "id": "79c3966f",
   "metadata": {},
   "outputs": [
    {
     "data": {
      "text/plain": [
       "[('Halo', 'Mahasiswa', 'tpdm')]"
      ]
     },
     "execution_count": 6,
     "metadata": {},
     "output_type": "execute_result"
    }
   ],
   "source": [
    "list(nltk.trigrams(tokenized_word))"
   ]
  },
  {
   "cell_type": "code",
   "execution_count": 4,
   "id": "5cc04426",
   "metadata": {},
   "outputs": [
    {
     "ename": "NameError",
     "evalue": "name 'word_tokenize' is not defined",
     "output_type": "error",
     "traceback": [
      "\u001b[1;31m---------------------------------------------------------------------------\u001b[0m",
      "\u001b[1;31mNameError\u001b[0m                                 Traceback (most recent call last)",
      "\u001b[1;32m~\\AppData\\Local\\Temp\\ipykernel_10076\\1909998147.py\u001b[0m in \u001b[0;36m<module>\u001b[1;34m\u001b[0m\n\u001b[1;32m----> 1\u001b[1;33m \u001b[0mlist\u001b[0m\u001b[1;33m(\u001b[0m\u001b[0mnltk\u001b[0m\u001b[1;33m.\u001b[0m\u001b[0mngrams\u001b[0m\u001b[1;33m(\u001b[0m\u001b[0mword_tokenize\u001b[0m\u001b[1;33m,\u001b[0m \u001b[1;36m3\u001b[0m\u001b[1;33m)\u001b[0m\u001b[1;33m)\u001b[0m\u001b[1;33m\u001b[0m\u001b[1;33m\u001b[0m\u001b[0m\n\u001b[0m",
      "\u001b[1;31mNameError\u001b[0m: name 'word_tokenize' is not defined"
     ]
    }
   ],
   "source": [
    "list(nltk.ngrams(word_tokenize, 3))"
   ]
  },
  {
   "cell_type": "code",
   "execution_count": 8,
   "id": "928c0aa6",
   "metadata": {},
   "outputs": [
    {
     "data": {
      "text/plain": [
       "FreqDist({'Halo': 1, 'Mahasiswa': 1, 'tpdm': 1})"
      ]
     },
     "execution_count": 8,
     "metadata": {},
     "output_type": "execute_result"
    }
   ],
   "source": [
    "from nltk.probability import FreqDist\n",
    "fDis =FreqDist(tokenized_word)\n",
    "fDis"
   ]
  },
  {
   "cell_type": "code",
   "execution_count": 10,
   "id": "6fe9cc0b",
   "metadata": {},
   "outputs": [
    {
     "data": {
      "image/png": "[encoded data removed]",
      "text/plain": [
       "<Figure size 640x480 with 1 Axes>"
      ]
     },
     "metadata": {},
     "output_type": "display_data"
    }
   ],
   "source": [
    "import matplotlib.pyplot as plt\n",
    "fDis.plot (10 , cumulative=False)\n",
    "plt.show()"
   ]
  },
  {
   "cell_type": "code",
   "execution_count": 12,
   "id": "3ecb7ddf",
   "metadata": {},
   "outputs": [
    {
     "name": "stderr",
     "output_type": "stream",
     "text": [
      "[nltk_data] Downloading package stopwords to\n",
      "[nltk_data]     C:\\Users\\ASUS\\AppData\\Roaming\\nltk_data...\n",
      "[nltk_data]   Unzipping corpora\\stopwords.zip.\n"
     ]
    },
    {
     "data": {
      "text/plain": [
       "True"
      ]
     },
     "execution_count": 12,
     "metadata": {},
     "output_type": "execute_result"
    }
   ],
   "source": [
    "nltk.download('stopwords')"
   ]
  },
  {
   "cell_type": "code",
   "execution_count": 18,
   "id": "d276493f",
   "metadata": {},
   "outputs": [
    {
     "name": "stdout",
     "output_type": "stream",
     "text": [
      "{'just', \"you'd\", 'each', 'should', 'have', 'where', 'most', 'm', 'i', \"mustn't\", 'than', 'over', 'at', \"aren't\", 'from', 'me', 'hers', \"don't\", 'y', \"shouldn't\", 'don', 'shan', \"should've\", 'what', 'but', 'and', 'for', 'below', \"weren't\", 'has', 'its', 'on', 'some', 'now', 've', 'd', 'both', 'such', 'won', 'because', 'being', 'been', 'haven', \"isn't\", 'is', 'him', 'hadn', 'are', 'few', 'if', 'weren', 'until', 'how', 'too', \"shan't\", 'by', 'ma', 'their', 'wasn', 'any', 'who', 'll', 'her', 'them', \"haven't\", \"mightn't\", 'those', 'your', 'itself', 'did', 'into', 'under', 'all', 'in', 'which', 'aren', 'ourselves', 'theirs', 'same', 'between', 'more', \"you'll\", 'when', 't', 'ain', 'it', 'isn', 'whom', 'wouldn', \"it's\", 'there', 'off', 'our', 'up', 'other', 'was', \"hadn't\", 'hasn', 'yourselves', \"won't\", \"hasn't\", 'we', 'above', 're', 'while', 'that', \"you're\", 'can', 'during', 'his', 'to', 'down', \"needn't\", 'ours', 'with', 'why', \"couldn't\", 'do', 'no', 'am', 'having', 'my', 'mightn', 'she', 'had', 'again', 'own', \"that'll\", 'were', 'a', 'about', 'once', 'before', 'against', 'an', 'myself', 'further', 'couldn', 'as', 'the', 'will', 'shouldn', 'o', 'himself', 'herself', 's', 'or', 'nor', 'these', 'so', 'mustn', 'themselves', 'needn', 'here', \"wouldn't\", 'doing', 'doesn', 'he', 'they', \"she's\", 'you', 'then', 'very', 'yours', 'out', 'only', 'this', 'be', 'of', 'didn', 'does', \"wasn't\", 'not', 'yourself', \"didn't\", \"you've\", \"doesn't\", 'through', 'after'}\n"
     ]
    }
   ],
   "source": [
    "from nltk.corpus import stopwords\n",
    "stopword = set (stopwords.words(\"english\"))\n",
    "print(stopword)"
   ]
  },
  {
   "cell_type": "code",
   "execution_count": 19,
   "id": "02eb9d1d",
   "metadata": {},
   "outputs": [
    {
     "name": "stdout",
     "output_type": "stream",
     "text": [
      "{'jawab', 'berakhirlah', 'maka', 'menyatakan', 'wah', 'sesaat', 'bertutur', 'pantas', 'baik', 'selamanya', 'sebelum', 'menunjuki', 'dimaksud', 'bung', 'dapat', 'setempat', 'kepadanya', 'berada', 'perlunya', 'jelas', 'sama', 'beberapa', 'memisalkan', 'toh', 'berikutnya', 'menyebutkan', 'sekitarnya', 'kedua', 'sebab', 'yakin', 'hanya', 'melakukan', 'menjawab', 'hendaklah', 'sepantasnya', 'pernah', 'sebesar', 'teringat-ingat', 'bermacam', 'kira-kira', 'sebagaimana', 'ditegaskan', 'dipastikan', 'sebabnya', 'menantikan', 'apabila', 'bermacam-macam', 'bakal', 'mempertanyakan', 'agar', 'diberi', 'menanti-nanti', 'ada', 'mengenai', 'bahkan', 'dipertanyakan', 'tanpa', 'sesuatu', 'keseluruhannya', 'terjadilah', 'diberikan', 'ingin', 'mau', 'amatlah', 'memberi', 'pertanyakan', 'semuanya', 'seharusnya', 'terjadi', 'balik', 'tuturnya', 'beginilah', 'berkali-kali', 'dikerjakan', 'misalnya', 'beginikah', 'keadaan', 'dimaksudkannya', 'amat', 'kapankah', 'biasa', 'mengakhiri', 'sudah', 'bulan', 'akulah', 'rasa', 'pihak', 'pula', 'akhirnya', 'itukah', 'sinilah', 'jikalau', 'terlalu', 'perlukah', 'tambahnya', 'sebaliknya', 'walaupun', 'apa', 'bawah', 'berlebihan', 'selama', 'pertama', 'diperbuat', 'diucapkan', 'ia', 'kalau', 'karenanya', 'dikira', 'meskipun', 'tiba', 'memberikan', 'sesudah', 'mengingatkan', 'ditambahkan', 'semacam', 'digunakan', 'adalah', 'atau', 'perlu', 'sebelumnya', 'siapakah', 'terhadapnya', 'dimaksudkan', 'meyakini', 'sehingga', 'tidakkah', 'tersebutlah', 'dipunyai', 'tak', 'sesegera', 'agaknya', 'setiba', 'tepat', 'kapan', 'kamu', 'mengatakan', 'antara', 'tanyakan', 'ucap', 'dan', 'kesampaian', 'betul', 'sebisanya', 'semata-mata', 'sesekali', 'harusnya', 'ibu', 'membuat', 'memungkinkan', 'jauh', 'jawaban', 'ditunjuki', 'datang', 'semasih', 'makin', 'nah', 'kan', 'seorang', 'tiga', 'menanyakan', 'secukupnya', 'mempersoalkan', 'sambil', 'ataukah', 'ibaratkan', 'sendirian', 'setengah', 'kira', 'tentang', 'menurut', 'bukan', 'tahun', 'sebagian', 'macam', 'masing-masing', 'haruslah', 'keduanya', 'sekecil', 'kelima', 'lanjutnya', 'pertanyaan', 'sejenak', 'sepanjang', 'wahai', 'semakin', 'bolehlah', 'menyiapkan', 'bermaksud', 'seterusnya', 'karena', 'supaya', 'lain', 'mendapat', 'jelaskan', 'sendirinya', 'dilakukan', 'didatangkan', 'itu', 'walau', 'dalam', 'malahan', 'berapapun', 'baru', 'sebagai', 'diperbuatnya', 'besar', 'hendak', 'semata', 'tiba-tiba', 'dialah', 'mengucapkan', 'semisalnya', 'diri', 'ditandaskan', 'juga', 'pak', 'apalagi', 'pihaknya', 'benarkah', 'sebanyak', 'seseorang', 'hanyalah', 'apaan', 'dijawab', 'waduh', 'anda', 'bertanya-tanya', 'pukul', 'sesuatunya', 'sama-sama', 'menandaskan', 'tempat', 'namun', 'sedikit', 'ternyata', 'memastikan', 'semasa', 'setiap', 'ingat-ingat', 'menanti', 'segalanya', 'daripada', 'jadilah', 'mungkin', 'nyaris', 'lah', 'mulanya', 'menanya', 'keterlaluan', 'teringat', 'banyak', 'tetap', 'minta', 'sangatlah', 'tegas', 'wong', 'pastilah', 'disebutkannya', 'sekarang', 'begitupun', 'diminta', 'sudahkah', 'diperlukannya', 'sampai-sampai', 'begini', 'diingat', 'diperlihatkan', 'empat', 'selalu', 'meski', 'dituturkannya', 'kembali', 'katakanlah', 'berkenaan', 'betulkah', 'kalaulah', 'mampu', 'menegaskan', 'keseluruhan', 'memang', 'menginginkan', 'diakhiri', 'masalahnya', 'bukannya', 'berakhir', 'sesama', 'kala', 'kini', 'terasa', 'kita', 'sekitar', 'sedangkan', 'dengan', 'bersama', 'adapun', 'kami', 'hingga', 'mengerjakan', 'selanjutnya', 'bersiap', 'menunjuknya', 'seolah-olah', 'percuma', 'soalnya', 'inginkan', 'oleh', 'semua', 'buat', 'enggak', 'kalian', 'tandasnya', 'seluruh', 'asal', 'kamulah', 'jelasnya', 'bersama-sama', 'pentingnya', 'dimulainya', 'terus', 'diketahui', 'pun', 'persoalan', 'diantara', 'inikah', 'kurang', 'waktunya', 'akhiri', 'bagian', 'disebut', 'berturut', 'kelihatannya', 'tadi', 'belum', 'ke', 'ditujukan', 'benar', 'inginkah', 'terdahulu', 'depan', 'awalnya', 'disini', 'menjadi', 'ujarnya', 'mempersiapkan', 'ungkapnya', 'umumnya', 'diakhirinya', 'bersiap-siap', 'mereka', 'begitukah', 'lanjut', 'bisakah', 'tiap', 'bekerja', 'entahlah', 'sempat', 'sebaiknya', 'tambah', 'manakala', 'tentunya', 'usah', 'dini', 'meyakinkan', 'ibaratnya', 'tegasnya', 'sejak', 'pada', 'kitalah', 'guna', 'bakalan', 'sayalah', 'para', 'masing', 'disebutkan', 'ditunjukkannya', 'sesudahnya', 'kok', 'antar', 'pertama-tama', 'selaku', 'katakan', 'tadinya', 'tapi', 'melihat', 'menggunakan', 'ditanya', 'bagaimanakah', 'diungkapkan', 'diperkirakan', 'bukankah', 'nanti', 'tanyanya', 'ujar', 'adanya', 'terkira', 'mendatangi', 'maupun', 'berlalu', 'semampunya', 'mengingat', 'setidak-tidaknya', 'bagi', 'berbagai', 'jangan', 'berikan', 'sedikitnya', 'sudahlah', 'sini', 'kepada', 'naik', 'serupa', 'bahwasanya', 'segala', 'semula', 'berupa', 'bisa', 'keinginan', 'antaranya', 'dirinya', 'kemungkinannya', 'sebuah', 'yang', 'sebegitu', 'termasuk', 'boleh', 'tanya', 'rupanya', 'selain', 'bilakah', 'sepertinya', 'di', 'melalui', 'caranya', 'menunjuk', 'telah', 'menjelaskan', 'disampaikan', 'berapa', 'tinggi', 'mempunyai', 'menuturkan', 'tertentu', 'merupakan', 'awal', 'lagian', 'tersebut', 'berarti', 'kamilah', 'lewat', 'sajalah', 'sampai', 'beri', 'dibuatnya', 'akankah', 'suatu', 'mampukah', 'jumlahnya', 'dari', 'sejauh', 'ditanyai', 'dulu', 'kecil', 'seusai', 'hendaknya', 'itulah', 'setidaknya', 'ungkap', 'menyangkut', 'cukupkah', 'yakni', 'menaiki', 'terakhir', 'kemudian', 'sekadar', 'bagaimana', 'lainnya', 'punya', 'demikianlah', 'diinginkan', 'jadinya', 'dikarenakan', 'sendiri', 'menunjukkan', 'dong', 'lalu', 'mulai', 'diibaratkannya', 'mula', 'tengah', 'mulailah', 'sekiranya', 'harus', 'diberikannya', 'saling', 'mengatakannya', 'apakah', 'merasa', 'terlebih', 'dimintai', 'saat', 'dituturkan', 'jadi', 'mendatang', 'setinggi', 'berturut-turut', 'mempergunakan', 'sewaktu', 'memperlihatkan', 'ditunjuknya', 'mungkinkah', 'mana', 'seperti', 'serta', 'bagaikan', 'dimisalkan', 'padahal', 'sekurangnya', 'menyeluruh', 'tidaklah', 'dilalui', 'dimulailah', 'se', 'sedang', 'setelah', 'yaitu', 'waktu', 'seolah', 'berakhirnya', 'lamanya', 'sangat', 'tutur', 'lagi', 'cukuplah', 'ataupun', 'hari', 'janganlah', 'ini', 'demi', 'nyatanya', 'saatnya', 'ialah', 'mendatangkan', 'tidak', 'bertanya', 'dijelaskan', 'mengungkapkan', 'cuma', 'bagaimanapun', 'paling', 'sejumlah', 'tersampaikan', 'merekalah', 'menyampaikan', 'sebaik', 'ingat', 'mengira', 'berawal', 'terdiri', 'sekalian', 'mengibaratkan', 'keluar', 'dikatakannya', 'untuk', 'enggaknya', 'saya', 'akhir', 'mengibaratkannya', 'sebetulnya', 'berlangsung', 'memihak', 'kasus', 'justru', 'bukanlah', 'lima', 'sekaligus', 'dijelaskannya', 'akan', 'tampaknya', 'tertuju', 'khususnya', 'entah', 'lebih', 'siapa', 'ibarat', 'bagai', 'diperlukan', 'dipersoalkan', 'artinya', 'sebegini', 'kinilah', 'semaunya', 'lama', 'beginian', 'secara', 'berlainan', 'begitulah', 'masihkah', 'sepihak', 'berkehendak', 'seketika', 'berkata', 'tampak', 'memperbuat', 'memulai', 'mengapa', 'makanya', 'disinilah', 'berujar', 'dimulai', 'kelihatan', 'kata', 'setibanya', 'semampu', 'atas', 'inilah', 'panjang', 'sekurang-kurangnya', 'rasanya', 'turut', 'hal', 'berikut', 'penting', 'siapapun', 'sering', 'sebagainya', 'segera', 'demikian', 'gunakan', 'kalaupun', 'melihatnya', 'mendapatkan', 'belumlah', 'katanya', 'aku', 'tandas', 'tetapi', 'mengucapkannya', 'bermula', 'memintakan', 'ikut', 'soal', 'sela', 'berkeinginan', 'dibuat', 'meminta', 'berapalah', 'dikatakan', 'malah', 'seberapa', 'menghendaki', 'asalkan', 'melainkan', 'saja', 'tunjuk', 'memerlukan', 'selama-lamanya', 'ditunjukkan', 'usai', 'kiranya', 'dekat', 'terjadinya', 'agak', 'nantinya', 'dia', 'bila', 'sekali-kali', 'kebetulan', 'seperlunya', 'tahu', 'bolehkah', 'apatah', 'diingatkan', 'sedemikian', 'tentu', 'misalkan', 'sekali', 'masih', 'berapakah', 'satu', 'bahwa', 'diantaranya', 'jumlah', 'sekadarnya', 'menambahkan', 'seingat', 'jawabnya', 'berdatangan', 'diibaratkan', 'ditanyakan', 'jika', 'siap', 'olehnya', 'luar', 'memperkirakan', 'menanyai', 'diucapkannya', 'andalah', 'dimaksudnya', 'sampaikan', 'tentulah', 'belakangan', 'sepantasnyalah', 'cukup', 'belakang', 'sementara', 'sebutnya', 'mirip', 'begitu', 'ucapnya', 'dimungkinkan', 'sekalipun', 'menuju', 'sebenarnya', 'masa', 'per', 'sebaik-baiknya', 'didapat', 'kemungkinan', 'kelamaan', 'benarlah', 'berjumlah', 'pasti', 'sana', 'rata', 'terhadap', 'sebutlah', 'bapak', 'ditunjuk', 'terlihat', 'dahulu', 'diketahuinya', 'kenapa', 'padanya', 'seenaknya', 'seluruhnya', 'biasanya', 'umum', 'terbanyak', 'dipergunakan', 'cara', 'sebut', 'misal', 'terdapat', 'jangankan', 'manalagi', 'sesampai', 'ketika', 'hampir', 'dilihat', 'masalah', 'semisal', 'dua', 'jelaslah', 'seringnya', 'terutama', 'mengetahui', 'kapanpun'}\n"
     ]
    }
   ],
   "source": [
    "from nltk.corpus import stopwords\n",
    "stopword = set (stopwords.words(\"indonesian\"))\n",
    "print(stopword)"
   ]
  },
  {
   "cell_type": "code",
   "execution_count": null,
   "id": "106fd429",
   "metadata": {},
   "outputs": [],
   "source": []
  }
 ],
 "metadata": {
  "kernelspec": {
   "display_name": "Python 3 (ipykernel)",
   "language": "python",
   "name": "python3"
  },
  "language_info": {
   "codemirror_mode": {
    "name": "ipython",
    "version": 3
   },
   "file_extension": ".py",
   "mimetype": "text/x-python",
   "name": "python",
   "nbconvert_exporter": "python",
   "pygments_lexer": "ipython3",
   "version": "3.9.13"
  }
 },
 "nbformat": 4,
 "nbformat_minor": 5
}
